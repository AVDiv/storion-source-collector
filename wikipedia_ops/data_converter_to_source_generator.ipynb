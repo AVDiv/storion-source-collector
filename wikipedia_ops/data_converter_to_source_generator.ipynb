{
 "cells": [
  {
   "cell_type": "code",
   "execution_count": 1,
   "metadata": {},
   "outputs": [],
   "source": [
    "import pandas as pd"
   ]
  },
  {
   "cell_type": "code",
   "execution_count": 2,
   "metadata": {},
   "outputs": [],
   "source": [
    "df = pd.read_csv('news_websites(wikipedia).csv')"
   ]
  },
  {
   "cell_type": "code",
   "execution_count": 3,
   "metadata": {},
   "outputs": [
    {
     "data": {
      "text/html": [
       "<div>\n",
       "<style scoped>\n",
       "    .dataframe tbody tr th:only-of-type {\n",
       "        vertical-align: middle;\n",
       "    }\n",
       "\n",
       "    .dataframe tbody tr th {\n",
       "        vertical-align: top;\n",
       "    }\n",
       "\n",
       "    .dataframe thead th {\n",
       "        text-align: right;\n",
       "    }\n",
       "</style>\n",
       "<table border=\"1\" class=\"dataframe\">\n",
       "  <thead>\n",
       "    <tr style=\"text-align: right;\">\n",
       "      <th></th>\n",
       "      <th>Name</th>\n",
       "      <th>Link</th>\n",
       "      <th>Country</th>\n",
       "    </tr>\n",
       "  </thead>\n",
       "  <tbody>\n",
       "    <tr>\n",
       "      <th>0</th>\n",
       "      <td>Gazeta 55</td>\n",
       "      <td>https://www.55news.al/</td>\n",
       "      <td>Albanian news websites</td>\n",
       "    </tr>\n",
       "    <tr>\n",
       "      <th>1</th>\n",
       "      <td>Gazeta Telegraf</td>\n",
       "      <td>https://telegraf.al/</td>\n",
       "      <td>Albanian news websites</td>\n",
       "    </tr>\n",
       "    <tr>\n",
       "      <th>2</th>\n",
       "      <td>Koha Jonë</td>\n",
       "      <td>https://kohajone.com/</td>\n",
       "      <td>Albanian news websites</td>\n",
       "    </tr>\n",
       "    <tr>\n",
       "      <th>3</th>\n",
       "      <td>News 24 (Albanian TV channel)</td>\n",
       "      <td>https://www.news24.al/</td>\n",
       "      <td>Albanian news websites</td>\n",
       "    </tr>\n",
       "    <tr>\n",
       "      <th>4</th>\n",
       "      <td>RTSH</td>\n",
       "      <td>https://rtsh.al/</td>\n",
       "      <td>Albanian news websites</td>\n",
       "    </tr>\n",
       "  </tbody>\n",
       "</table>\n",
       "</div>"
      ],
      "text/plain": [
       "                            Name                    Link  \\\n",
       "0                      Gazeta 55  https://www.55news.al/   \n",
       "1                Gazeta Telegraf    https://telegraf.al/   \n",
       "2                      Koha Jonë   https://kohajone.com/   \n",
       "3  News 24 (Albanian TV channel)  https://www.news24.al/   \n",
       "4                           RTSH        https://rtsh.al/   \n",
       "\n",
       "                  Country  \n",
       "0  Albanian news websites  \n",
       "1  Albanian news websites  \n",
       "2  Albanian news websites  \n",
       "3  Albanian news websites  \n",
       "4  Albanian news websites  "
      ]
     },
     "execution_count": 3,
     "metadata": {},
     "output_type": "execute_result"
    }
   ],
   "source": [
    "df.head()"
   ]
  },
  {
   "cell_type": "code",
   "execution_count": 4,
   "metadata": {},
   "outputs": [],
   "source": [
    "df.rename(columns={\n",
    "  'Name': 'publisher_name',\n",
    "  'Link': 'link',\n",
    "  'Country': 'country',\n",
    "}, inplace=True)"
   ]
  },
  {
   "cell_type": "code",
   "execution_count": 5,
   "metadata": {},
   "outputs": [
    {
     "data": {
      "text/html": [
       "<div>\n",
       "<style scoped>\n",
       "    .dataframe tbody tr th:only-of-type {\n",
       "        vertical-align: middle;\n",
       "    }\n",
       "\n",
       "    .dataframe tbody tr th {\n",
       "        vertical-align: top;\n",
       "    }\n",
       "\n",
       "    .dataframe thead th {\n",
       "        text-align: right;\n",
       "    }\n",
       "</style>\n",
       "<table border=\"1\" class=\"dataframe\">\n",
       "  <thead>\n",
       "    <tr style=\"text-align: right;\">\n",
       "      <th></th>\n",
       "      <th>publisher_name</th>\n",
       "      <th>link</th>\n",
       "      <th>country</th>\n",
       "    </tr>\n",
       "  </thead>\n",
       "  <tbody>\n",
       "    <tr>\n",
       "      <th>0</th>\n",
       "      <td>Gazeta 55</td>\n",
       "      <td>https://www.55news.al/</td>\n",
       "      <td>Albanian news websites</td>\n",
       "    </tr>\n",
       "    <tr>\n",
       "      <th>1</th>\n",
       "      <td>Gazeta Telegraf</td>\n",
       "      <td>https://telegraf.al/</td>\n",
       "      <td>Albanian news websites</td>\n",
       "    </tr>\n",
       "    <tr>\n",
       "      <th>2</th>\n",
       "      <td>Koha Jonë</td>\n",
       "      <td>https://kohajone.com/</td>\n",
       "      <td>Albanian news websites</td>\n",
       "    </tr>\n",
       "    <tr>\n",
       "      <th>3</th>\n",
       "      <td>News 24 (Albanian TV channel)</td>\n",
       "      <td>https://www.news24.al/</td>\n",
       "      <td>Albanian news websites</td>\n",
       "    </tr>\n",
       "    <tr>\n",
       "      <th>4</th>\n",
       "      <td>RTSH</td>\n",
       "      <td>https://rtsh.al/</td>\n",
       "      <td>Albanian news websites</td>\n",
       "    </tr>\n",
       "  </tbody>\n",
       "</table>\n",
       "</div>"
      ],
      "text/plain": [
       "                  publisher_name                    link  \\\n",
       "0                      Gazeta 55  https://www.55news.al/   \n",
       "1                Gazeta Telegraf    https://telegraf.al/   \n",
       "2                      Koha Jonë   https://kohajone.com/   \n",
       "3  News 24 (Albanian TV channel)  https://www.news24.al/   \n",
       "4                           RTSH        https://rtsh.al/   \n",
       "\n",
       "                  country  \n",
       "0  Albanian news websites  \n",
       "1  Albanian news websites  \n",
       "2  Albanian news websites  \n",
       "3  Albanian news websites  \n",
       "4  Albanian news websites  "
      ]
     },
     "execution_count": 5,
     "metadata": {},
     "output_type": "execute_result"
    }
   ],
   "source": [
    "df.head()"
   ]
  },
  {
   "cell_type": "code",
   "execution_count": 6,
   "metadata": {},
   "outputs": [],
   "source": [
    "df['country'] = df['country'].str.split().str.slice(0, -2).str.join(' ')"
   ]
  },
  {
   "cell_type": "code",
   "execution_count": 7,
   "metadata": {},
   "outputs": [
    {
     "data": {
      "text/html": [
       "<div>\n",
       "<style scoped>\n",
       "    .dataframe tbody tr th:only-of-type {\n",
       "        vertical-align: middle;\n",
       "    }\n",
       "\n",
       "    .dataframe tbody tr th {\n",
       "        vertical-align: top;\n",
       "    }\n",
       "\n",
       "    .dataframe thead th {\n",
       "        text-align: right;\n",
       "    }\n",
       "</style>\n",
       "<table border=\"1\" class=\"dataframe\">\n",
       "  <thead>\n",
       "    <tr style=\"text-align: right;\">\n",
       "      <th></th>\n",
       "      <th>publisher_name</th>\n",
       "      <th>link</th>\n",
       "      <th>country</th>\n",
       "    </tr>\n",
       "  </thead>\n",
       "  <tbody>\n",
       "    <tr>\n",
       "      <th>0</th>\n",
       "      <td>Gazeta 55</td>\n",
       "      <td>https://www.55news.al/</td>\n",
       "      <td>Albanian</td>\n",
       "    </tr>\n",
       "    <tr>\n",
       "      <th>1</th>\n",
       "      <td>Gazeta Telegraf</td>\n",
       "      <td>https://telegraf.al/</td>\n",
       "      <td>Albanian</td>\n",
       "    </tr>\n",
       "    <tr>\n",
       "      <th>2</th>\n",
       "      <td>Koha Jonë</td>\n",
       "      <td>https://kohajone.com/</td>\n",
       "      <td>Albanian</td>\n",
       "    </tr>\n",
       "    <tr>\n",
       "      <th>3</th>\n",
       "      <td>News 24 (Albanian TV channel)</td>\n",
       "      <td>https://www.news24.al/</td>\n",
       "      <td>Albanian</td>\n",
       "    </tr>\n",
       "    <tr>\n",
       "      <th>4</th>\n",
       "      <td>RTSH</td>\n",
       "      <td>https://rtsh.al/</td>\n",
       "      <td>Albanian</td>\n",
       "    </tr>\n",
       "  </tbody>\n",
       "</table>\n",
       "</div>"
      ],
      "text/plain": [
       "                  publisher_name                    link   country\n",
       "0                      Gazeta 55  https://www.55news.al/  Albanian\n",
       "1                Gazeta Telegraf    https://telegraf.al/  Albanian\n",
       "2                      Koha Jonë   https://kohajone.com/  Albanian\n",
       "3  News 24 (Albanian TV channel)  https://www.news24.al/  Albanian\n",
       "4                           RTSH        https://rtsh.al/  Albanian"
      ]
     },
     "execution_count": 7,
     "metadata": {},
     "output_type": "execute_result"
    }
   ],
   "source": [
    "df.head()"
   ]
  },
  {
   "cell_type": "code",
   "execution_count": 8,
   "metadata": {},
   "outputs": [],
   "source": [
    "df.to_csv('news_websites_modded.csv', index=False)"
   ]
  }
 ],
 "metadata": {
  "kernelspec": {
   "display_name": ".venv",
   "language": "python",
   "name": "python3"
  },
  "language_info": {
   "codemirror_mode": {
    "name": "ipython",
    "version": 3
   },
   "file_extension": ".py",
   "mimetype": "text/x-python",
   "name": "python",
   "nbconvert_exporter": "python",
   "pygments_lexer": "ipython3",
   "version": "3.12.7"
  }
 },
 "nbformat": 4,
 "nbformat_minor": 2
}
