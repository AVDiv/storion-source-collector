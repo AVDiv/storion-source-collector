{
 "cells": [
  {
   "cell_type": "code",
   "execution_count": 6,
   "metadata": {},
   "outputs": [],
   "source": [
    "import pandas as pd\n",
    "import requests\n",
    "from urllib.parse import urlparse\n",
    "import feedparser\n",
    "from tqdm import tqdm\n",
    "import logging\n",
    "from bs4 import BeautifulSoup\n",
    "from urllib.robotparser import RobotFileParser  # Added import"
   ]
  },
  {
   "cell_type": "code",
   "execution_count": 14,
   "metadata": {},
   "outputs": [],
   "source": [
    "sources_df = pd.read_csv(\"news_websites_modded.csv\")"
   ]
  },
  {
   "cell_type": "code",
   "execution_count": 13,
   "metadata": {},
   "outputs": [],
   "source": [
    "def validate_url(url):\n",
    "    try:\n",
    "        response = requests.head(url, allow_redirects=True, timeout=5)\n",
    "        return response.status_code == 200\n",
    "    except requests.RequestException:\n",
    "        return False\n",
    "\n",
    "\n",
    "def find_rss_feed(domain):\n",
    "    potential_feeds = [\n",
    "        f\"{domain}/rss\",\n",
    "        f\"{domain}/feed\",\n",
    "        f\"{domain}/feeds/posts/default\",\n",
    "        f\"{domain}/rss.xml\",\n",
    "        f\"{domain}/feed.xml\",\n",
    "        f\"{domain}/rss.php\",\n",
    "        f\"{domain}/feed.php\",\n",
    "        f\"rss.{domain}\",\n",
    "    ]\n",
    "    for feed_url in potential_feeds:\n",
    "        try:\n",
    "            response = requests.get(feed_url, timeout=5)\n",
    "            if response.status_code == 200:\n",
    "                return feed_url\n",
    "        except requests.RequestException:\n",
    "            continue\n",
    "    return None\n",
    "\n",
    "\n",
    "def check_feed_validity(feed_url):\n",
    "    feed = feedparser.parse(feed_url)\n",
    "    return feed.bozo == 0"
   ]
  },
  {
   "cell_type": "code",
   "execution_count": 15,
   "metadata": {},
   "outputs": [],
   "source": [
    "def check_robots_txt(domain, article_links):\n",
    "    robots_url = f\"{domain}/robots.txt\"\n",
    "    rp = RobotFileParser()\n",
    "    rp.set_url(robots_url)\n",
    "    try:\n",
    "        rp.read()\n",
    "        allowed_count = 0\n",
    "        for link in article_links:\n",
    "            if rp.can_fetch(\"*\", link):\n",
    "                allowed_count += 1\n",
    "        return True, allowed_count / len(article_links)\n",
    "    except requests.RequestException:\n",
    "        return False, 0"
   ]
  },
  {
   "cell_type": "code",
   "execution_count": 16,
   "metadata": {},
   "outputs": [
    {
     "name": "stderr",
     "output_type": "stream",
     "text": [
      "Processing sources:   0%|          | 0/1785 [00:00<?, ?it/s]\n"
     ]
    }
   ],
   "source": [
    "for index, row in tqdm(\n",
    "    sources_df.iterrows(), total=sources_df.shape[0], desc=\"Processing sources\"\n",
    "):\n",
    "    source_name = row[\"publisher_name\"]\n",
    "    country = row[\"country\"]\n",
    "    link = str(row[\"link\"])  # Ensure link is a string\n",
    "    domain = urlparse(link).netloc if link else \"\"\n",
    "\n",
    "    is_domain_up = validate_url(link) if domain else False\n",
    "    rss_url = find_rss_feed(domain) if is_domain_up else None\n",
    "    is_rss_feed_available = rss_url is not None\n",
    "    is_rss_feed_valid = check_feed_validity(rss_url) if is_rss_feed_available else False\n",
    "\n",
    "    article_links = []\n",
    "    if is_rss_feed_valid:\n",
    "        feed = feedparser.parse(rss_url)\n",
    "        article_links = [entry.link for entry in feed.entries]\n",
    "\n",
    "    is_scraping_allowed, scraping_score = (\n",
    "        check_robots_txt(domain, article_links) if article_links else (False, 0)\n",
    "    )\n",
    "    break"
   ]
  },
  {
   "cell_type": "code",
   "execution_count": null,
   "metadata": {},
   "outputs": [],
   "source": []
  },
  {
   "cell_type": "code",
   "execution_count": 17,
   "metadata": {},
   "outputs": [
    {
     "data": {
      "text/plain": [
       "[]"
      ]
     },
     "execution_count": 17,
     "metadata": {},
     "output_type": "execute_result"
    }
   ],
   "source": [
    "article_links"
   ]
  }
 ],
 "metadata": {
  "kernelspec": {
   "display_name": ".venv",
   "language": "python",
   "name": "python3"
  },
  "language_info": {
   "codemirror_mode": {
    "name": "ipython",
    "version": 3
   },
   "file_extension": ".py",
   "mimetype": "text/x-python",
   "name": "python",
   "nbconvert_exporter": "python",
   "pygments_lexer": "ipython3",
   "version": "3.12.7"
  }
 },
 "nbformat": 4,
 "nbformat_minor": 2
}
